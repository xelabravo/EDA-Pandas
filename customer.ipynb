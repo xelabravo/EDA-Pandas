{
 "cells": [
  {
   "cell_type": "markdown",
   "metadata": {},
   "source": [
    "Para este problema suponemos que la variable dependiente customer ==1 quiere decir que se ha suscrito o a realizado alguna acción en la página a la app viendo que hay una columna sobre el sistema operativo."
   ]
  },
  {
   "cell_type": "code",
   "execution_count": 90,
   "metadata": {
    "collapsed": true
   },
   "outputs": [],
   "source": [
    "import matplotlib.pyplot as plt\n",
    "import numpy as np\n",
    "import pandas as pd\n"
   ]
  },
  {
   "cell_type": "code",
   "execution_count": 91,
   "metadata": {
    "collapsed": true
   },
   "outputs": [],
   "source": [
    "datos = pd.read_csv('train_data.csv.csv_fixed')"
   ]
  },
  {
   "cell_type": "code",
   "execution_count": 92,
   "metadata": {},
   "outputs": [
    {
     "data": {
      "text/html": [
       "<div>\n",
       "<style>\n",
       "    .dataframe thead tr:only-child th {\n",
       "        text-align: right;\n",
       "    }\n",
       "\n",
       "    .dataframe thead th {\n",
       "        text-align: left;\n",
       "    }\n",
       "\n",
       "    .dataframe tbody tr th {\n",
       "        vertical-align: top;\n",
       "    }\n",
       "</style>\n",
       "<table border=\"1\" class=\"dataframe\">\n",
       "  <thead>\n",
       "    <tr style=\"text-align: right;\">\n",
       "      <th></th>\n",
       "      <th>user_id</th>\n",
       "      <th>channel</th>\n",
       "      <th>age</th>\n",
       "      <th>os</th>\n",
       "      <th>gender</th>\n",
       "      <th>country</th>\n",
       "      <th>customer</th>\n",
       "    </tr>\n",
       "  </thead>\n",
       "  <tbody>\n",
       "    <tr>\n",
       "      <th>0</th>\n",
       "      <td>100000</td>\n",
       "      <td>00 Organic</td>\n",
       "      <td>20</td>\n",
       "      <td>ios</td>\n",
       "      <td>female</td>\n",
       "      <td>GB</td>\n",
       "      <td>0</td>\n",
       "    </tr>\n",
       "    <tr>\n",
       "      <th>1</th>\n",
       "      <td>100001</td>\n",
       "      <td>00 Organic</td>\n",
       "      <td>30</td>\n",
       "      <td>ios</td>\n",
       "      <td>female</td>\n",
       "      <td>US</td>\n",
       "      <td>1</td>\n",
       "    </tr>\n",
       "    <tr>\n",
       "      <th>2</th>\n",
       "      <td>100002</td>\n",
       "      <td>31 OUTBRAIN</td>\n",
       "      <td>35</td>\n",
       "      <td>ios</td>\n",
       "      <td>female</td>\n",
       "      <td>DE</td>\n",
       "      <td>0</td>\n",
       "    </tr>\n",
       "    <tr>\n",
       "      <th>3</th>\n",
       "      <td>100003</td>\n",
       "      <td>00 Organic</td>\n",
       "      <td>26</td>\n",
       "      <td>android</td>\n",
       "      <td>female</td>\n",
       "      <td>US</td>\n",
       "      <td>0</td>\n",
       "    </tr>\n",
       "    <tr>\n",
       "      <th>4</th>\n",
       "      <td>100004</td>\n",
       "      <td>32 Taboola</td>\n",
       "      <td>55</td>\n",
       "      <td>ios</td>\n",
       "      <td>female</td>\n",
       "      <td>US</td>\n",
       "      <td>1</td>\n",
       "    </tr>\n",
       "  </tbody>\n",
       "</table>\n",
       "</div>"
      ],
      "text/plain": [
       "   user_id      channel  age       os  gender country  customer\n",
       "0   100000   00 Organic   20      ios  female      GB         0\n",
       "1   100001   00 Organic   30      ios  female      US         1\n",
       "2   100002  31 OUTBRAIN   35      ios  female      DE         0\n",
       "3   100003   00 Organic   26  android  female      US         0\n",
       "4   100004   32 Taboola   55      ios  female      US         1"
      ]
     },
     "execution_count": 92,
     "metadata": {},
     "output_type": "execute_result"
    }
   ],
   "source": [
    "datos.head()"
   ]
  },
  {
   "cell_type": "code",
   "execution_count": 93,
   "metadata": {},
   "outputs": [
    {
     "data": {
      "text/plain": [
       "user_id     0\n",
       "channel     0\n",
       "age         0\n",
       "os          0\n",
       "gender      0\n",
       "country     0\n",
       "customer    0\n",
       "dtype: int64"
      ]
     },
     "execution_count": 93,
     "metadata": {},
     "output_type": "execute_result"
    }
   ],
   "source": [
    "#Como simepre comprobar si hay valores NaN\n",
    "datos.isnull().sum()"
   ]
  },
  {
   "cell_type": "code",
   "execution_count": 94,
   "metadata": {},
   "outputs": [
    {
     "data": {
      "text/html": [
       "<div>\n",
       "<style>\n",
       "    .dataframe thead tr:only-child th {\n",
       "        text-align: right;\n",
       "    }\n",
       "\n",
       "    .dataframe thead th {\n",
       "        text-align: left;\n",
       "    }\n",
       "\n",
       "    .dataframe tbody tr th {\n",
       "        vertical-align: top;\n",
       "    }\n",
       "</style>\n",
       "<table border=\"1\" class=\"dataframe\">\n",
       "  <thead>\n",
       "    <tr style=\"text-align: right;\">\n",
       "      <th></th>\n",
       "      <th>user_id</th>\n",
       "      <th>age</th>\n",
       "      <th>customer</th>\n",
       "    </tr>\n",
       "  </thead>\n",
       "  <tbody>\n",
       "    <tr>\n",
       "      <th>count</th>\n",
       "      <td>82908.000000</td>\n",
       "      <td>82908.000000</td>\n",
       "      <td>82908.000000</td>\n",
       "    </tr>\n",
       "    <tr>\n",
       "      <th>mean</th>\n",
       "      <td>141453.500000</td>\n",
       "      <td>31.151734</td>\n",
       "      <td>0.297848</td>\n",
       "    </tr>\n",
       "    <tr>\n",
       "      <th>std</th>\n",
       "      <td>23933.622396</td>\n",
       "      <td>11.596902</td>\n",
       "      <td>0.457315</td>\n",
       "    </tr>\n",
       "    <tr>\n",
       "      <th>min</th>\n",
       "      <td>100000.000000</td>\n",
       "      <td>12.000000</td>\n",
       "      <td>0.000000</td>\n",
       "    </tr>\n",
       "    <tr>\n",
       "      <th>25%</th>\n",
       "      <td>120726.750000</td>\n",
       "      <td>22.000000</td>\n",
       "      <td>0.000000</td>\n",
       "    </tr>\n",
       "    <tr>\n",
       "      <th>50%</th>\n",
       "      <td>141453.500000</td>\n",
       "      <td>29.000000</td>\n",
       "      <td>0.000000</td>\n",
       "    </tr>\n",
       "    <tr>\n",
       "      <th>75%</th>\n",
       "      <td>162180.250000</td>\n",
       "      <td>38.000000</td>\n",
       "      <td>1.000000</td>\n",
       "    </tr>\n",
       "    <tr>\n",
       "      <th>max</th>\n",
       "      <td>182907.000000</td>\n",
       "      <td>96.000000</td>\n",
       "      <td>1.000000</td>\n",
       "    </tr>\n",
       "  </tbody>\n",
       "</table>\n",
       "</div>"
      ],
      "text/plain": [
       "             user_id           age      customer\n",
       "count   82908.000000  82908.000000  82908.000000\n",
       "mean   141453.500000     31.151734      0.297848\n",
       "std     23933.622396     11.596902      0.457315\n",
       "min    100000.000000     12.000000      0.000000\n",
       "25%    120726.750000     22.000000      0.000000\n",
       "50%    141453.500000     29.000000      0.000000\n",
       "75%    162180.250000     38.000000      1.000000\n",
       "max    182907.000000     96.000000      1.000000"
      ]
     },
     "execution_count": 94,
     "metadata": {},
     "output_type": "execute_result"
    }
   ],
   "source": [
    "#los datos estan limpios ahora vamos a comprobar vienod un poco los datos\n",
    "datos.describe()"
   ]
  },
  {
   "cell_type": "code",
   "execution_count": 95,
   "metadata": {
    "collapsed": true
   },
   "outputs": [],
   "source": [
    "#como conclusiones= la media de esdad esta en 30 años no paree que hay  \n",
    "#outlier podemos asumir que la edad de 96 años es creible.\n",
    "#vemos tambien que hay un 30% de datos como customers."
   ]
  },
  {
   "cell_type": "code",
   "execution_count": 96,
   "metadata": {},
   "outputs": [
    {
     "data": {
      "text/plain": [
       "4172"
      ]
     },
     "execution_count": 96,
     "metadata": {},
     "output_type": "execute_result"
    }
   ],
   "source": [
    "#EDA\n",
    "#ver cuantos usuario son de españa\n",
    "datos[datos['country']=='ES'] ['country'].count()"
   ]
  },
  {
   "cell_type": "code",
   "execution_count": 97,
   "metadata": {},
   "outputs": [
    {
     "data": {
      "text/plain": [
       "US    50855\n",
       "GB     9226\n",
       "Name: country, dtype: int64"
      ]
     },
     "execution_count": 97,
     "metadata": {},
     "output_type": "execute_result"
    }
   ],
   "source": [
    "#De donde son la mayoria de la gente\n",
    "datos['country'].value_counts().head(2)\n"
   ]
  },
  {
   "cell_type": "code",
   "execution_count": 98,
   "metadata": {},
   "outputs": [
    {
     "data": {
      "text/plain": [
       "female    57031\n",
       "male      25877\n",
       "Name: gender, dtype: int64"
      ]
     },
     "execution_count": 98,
     "metadata": {},
     "output_type": "execute_result"
    }
   ],
   "source": [
    "#ver la diferencia entre hombres y mujeres \n",
    "datos['gender'].value_counts()"
   ]
  },
  {
   "cell_type": "code",
   "execution_count": 99,
   "metadata": {
    "collapsed": true
   },
   "outputs": [],
   "source": [
    "#hay mas hombre que mujeres "
   ]
  },
  {
   "cell_type": "code",
   "execution_count": 100,
   "metadata": {},
   "outputs": [
    {
     "data": {
      "text/plain": [
       "ios        48662\n",
       "android    34246\n",
       "Name: os, dtype: int64"
      ]
     },
     "execution_count": 100,
     "metadata": {},
     "output_type": "execute_result"
    }
   ],
   "source": [
    "#ver que sistema operativo es el mas utilizado\n",
    "datos['os'].value_counts()"
   ]
  },
  {
   "cell_type": "code",
   "execution_count": 101,
   "metadata": {},
   "outputs": [
    {
     "data": {
      "image/png": "[encoded data removed]",
      "text/plain": [
       "<matplotlib.figure.Figure at 0x11b0b0d10>"
      ]
     },
     "metadata": {},
     "output_type": "display_data"
    }
   ],
   "source": [
    "#vamos a realziar algunos graficos \n",
    "#figura = plt.figure(figsize=(20,20))\n",
    "chan = datos['channel'].value_counts()\n",
    "chan.plot(kind='bar', title='timpo de channel')\n",
    "plt.show()"
   ]
  },
  {
   "cell_type": "code",
   "execution_count": 102,
   "metadata": {},
   "outputs": [
    {
     "data": {
      "image/png": "[encoded data removed]",
      "text/plain": [
       "<matplotlib.figure.Figure at 0x114133250>"
      ]
     },
     "metadata": {},
     "output_type": "display_data"
    }
   ],
   "source": [
    "#vamos a ver otro grafico por ejemplo tipo de sistema operativo utilizado\n",
    "\n",
    "sist = datos['os'].value_counts()\n",
    "sist.plot(kind='bar',title='sistema operativo')\n",
    "plt.show()"
   ]
  },
  {
   "cell_type": "code",
   "execution_count": 103,
   "metadata": {},
   "outputs": [
    {
     "data": {
      "image/png": "[encoded data removed]",
      "text/plain": [
       "<matplotlib.figure.Figure at 0x11b15a810>"
      ]
     },
     "metadata": {},
     "output_type": "display_data"
    }
   ],
   "source": [
    "#para sacar una conlusion vamo ahora ver otra grafica de los años\n",
    "anios = datos['age']\n",
    "anios.plot.hist(rwidth = 0.8, zorder = 5)\n",
    "plt.show()"
   ]
  },
  {
   "cell_type": "code",
   "execution_count": 104,
   "metadata": {
    "collapsed": true
   },
   "outputs": [],
   "source": [
    "#conclusiones : vemos que la mayoria de la personas poseen un dispositivo apple\n",
    "#y vienene de facebook ,organic y pinterest.La edad media como vemos esta \n",
    "#esta entre 20-40."
   ]
  },
  {
   "cell_type": "code",
   "execution_count": 105,
   "metadata": {},
   "outputs": [
    {
     "data": {
      "text/html": [
       "<div>\n",
       "<style>\n",
       "    .dataframe thead tr:only-child th {\n",
       "        text-align: right;\n",
       "    }\n",
       "\n",
       "    .dataframe thead th {\n",
       "        text-align: left;\n",
       "    }\n",
       "\n",
       "    .dataframe tbody tr th {\n",
       "        vertical-align: top;\n",
       "    }\n",
       "</style>\n",
       "<table border=\"1\" class=\"dataframe\">\n",
       "  <thead>\n",
       "    <tr style=\"text-align: right;\">\n",
       "      <th>customer</th>\n",
       "      <th>0</th>\n",
       "      <th>1</th>\n",
       "    </tr>\n",
       "    <tr>\n",
       "      <th>channel</th>\n",
       "      <th></th>\n",
       "      <th></th>\n",
       "    </tr>\n",
       "  </thead>\n",
       "  <tbody>\n",
       "    <tr>\n",
       "      <th>00 Organic</th>\n",
       "      <td>15218</td>\n",
       "      <td>6577</td>\n",
       "    </tr>\n",
       "    <tr>\n",
       "      <th>11 FB</th>\n",
       "      <td>6646</td>\n",
       "      <td>2211</td>\n",
       "    </tr>\n",
       "    <tr>\n",
       "      <th>12 PINTEREST</th>\n",
       "      <td>9535</td>\n",
       "      <td>4029</td>\n",
       "    </tr>\n",
       "    <tr>\n",
       "      <th>21 ASA</th>\n",
       "      <td>1521</td>\n",
       "      <td>587</td>\n",
       "    </tr>\n",
       "    <tr>\n",
       "      <th>22 Adwords (Search)</th>\n",
       "      <td>5693</td>\n",
       "      <td>1678</td>\n",
       "    </tr>\n",
       "    <tr>\n",
       "      <th>31 OUTBRAIN</th>\n",
       "      <td>3577</td>\n",
       "      <td>2660</td>\n",
       "    </tr>\n",
       "    <tr>\n",
       "      <th>32 Taboola</th>\n",
       "      <td>1515</td>\n",
       "      <td>1274</td>\n",
       "    </tr>\n",
       "    <tr>\n",
       "      <th>41 Youtube</th>\n",
       "      <td>5042</td>\n",
       "      <td>1480</td>\n",
       "    </tr>\n",
       "    <tr>\n",
       "      <th>42 Adcolony</th>\n",
       "      <td>3511</td>\n",
       "      <td>1295</td>\n",
       "    </tr>\n",
       "    <tr>\n",
       "      <th>61 Web/Content</th>\n",
       "      <td>275</td>\n",
       "      <td>115</td>\n",
       "    </tr>\n",
       "    <tr>\n",
       "      <th>62 Social Media</th>\n",
       "      <td>414</td>\n",
       "      <td>136</td>\n",
       "    </tr>\n",
       "    <tr>\n",
       "      <th>69 Others</th>\n",
       "      <td>568</td>\n",
       "      <td>308</td>\n",
       "    </tr>\n",
       "    <tr>\n",
       "      <th>95 LAT</th>\n",
       "      <td>4699</td>\n",
       "      <td>2344</td>\n",
       "    </tr>\n",
       "  </tbody>\n",
       "</table>\n",
       "</div>"
      ],
      "text/plain": [
       "customer                 0     1\n",
       "channel                         \n",
       "00 Organic           15218  6577\n",
       "11 FB                 6646  2211\n",
       "12 PINTEREST          9535  4029\n",
       "21 ASA                1521   587\n",
       "22 Adwords (Search)   5693  1678\n",
       "31 OUTBRAIN           3577  2660\n",
       "32 Taboola            1515  1274\n",
       "41 Youtube            5042  1480\n",
       "42 Adcolony           3511  1295\n",
       "61 Web/Content         275   115\n",
       "62 Social Media        414   136\n",
       "69 Others              568   308\n",
       "95 LAT                4699  2344"
      ]
     },
     "execution_count": 105,
     "metadata": {},
     "output_type": "execute_result"
    }
   ],
   "source": [
    "#ver probabilida de coversion con el tipo de canal\n",
    "conve_cha = pd.crosstab(datos['channel'],datos['customer'])\n",
    "conve_cha\n"
   ]
  },
  {
   "cell_type": "code",
   "execution_count": 106,
   "metadata": {},
   "outputs": [
    {
     "data": {
      "text/html": [
       "<div>\n",
       "<style>\n",
       "    .dataframe thead tr:only-child th {\n",
       "        text-align: right;\n",
       "    }\n",
       "\n",
       "    .dataframe thead th {\n",
       "        text-align: left;\n",
       "    }\n",
       "\n",
       "    .dataframe tbody tr th {\n",
       "        vertical-align: top;\n",
       "    }\n",
       "</style>\n",
       "<table border=\"1\" class=\"dataframe\">\n",
       "  <thead>\n",
       "    <tr style=\"text-align: right;\">\n",
       "      <th>customer</th>\n",
       "      <th>0</th>\n",
       "      <th>1</th>\n",
       "    </tr>\n",
       "    <tr>\n",
       "      <th>channel</th>\n",
       "      <th></th>\n",
       "      <th></th>\n",
       "    </tr>\n",
       "  </thead>\n",
       "  <tbody>\n",
       "    <tr>\n",
       "      <th>00 Organic</th>\n",
       "      <td>0.698234</td>\n",
       "      <td>0.301766</td>\n",
       "    </tr>\n",
       "    <tr>\n",
       "      <th>11 FB</th>\n",
       "      <td>0.750367</td>\n",
       "      <td>0.249633</td>\n",
       "    </tr>\n",
       "    <tr>\n",
       "      <th>12 PINTEREST</th>\n",
       "      <td>0.702964</td>\n",
       "      <td>0.297036</td>\n",
       "    </tr>\n",
       "    <tr>\n",
       "      <th>21 ASA</th>\n",
       "      <td>0.721537</td>\n",
       "      <td>0.278463</td>\n",
       "    </tr>\n",
       "    <tr>\n",
       "      <th>22 Adwords (Search)</th>\n",
       "      <td>0.772351</td>\n",
       "      <td>0.227649</td>\n",
       "    </tr>\n",
       "    <tr>\n",
       "      <th>31 OUTBRAIN</th>\n",
       "      <td>0.573513</td>\n",
       "      <td>0.426487</td>\n",
       "    </tr>\n",
       "    <tr>\n",
       "      <th>32 Taboola</th>\n",
       "      <td>0.543205</td>\n",
       "      <td>0.456795</td>\n",
       "    </tr>\n",
       "    <tr>\n",
       "      <th>41 Youtube</th>\n",
       "      <td>0.773076</td>\n",
       "      <td>0.226924</td>\n",
       "    </tr>\n",
       "    <tr>\n",
       "      <th>42 Adcolony</th>\n",
       "      <td>0.730545</td>\n",
       "      <td>0.269455</td>\n",
       "    </tr>\n",
       "    <tr>\n",
       "      <th>61 Web/Content</th>\n",
       "      <td>0.705128</td>\n",
       "      <td>0.294872</td>\n",
       "    </tr>\n",
       "    <tr>\n",
       "      <th>62 Social Media</th>\n",
       "      <td>0.752727</td>\n",
       "      <td>0.247273</td>\n",
       "    </tr>\n",
       "    <tr>\n",
       "      <th>69 Others</th>\n",
       "      <td>0.648402</td>\n",
       "      <td>0.351598</td>\n",
       "    </tr>\n",
       "    <tr>\n",
       "      <th>95 LAT</th>\n",
       "      <td>0.667187</td>\n",
       "      <td>0.332813</td>\n",
       "    </tr>\n",
       "  </tbody>\n",
       "</table>\n",
       "</div>"
      ],
      "text/plain": [
       "customer                    0         1\n",
       "channel                                \n",
       "00 Organic           0.698234  0.301766\n",
       "11 FB                0.750367  0.249633\n",
       "12 PINTEREST         0.702964  0.297036\n",
       "21 ASA               0.721537  0.278463\n",
       "22 Adwords (Search)  0.772351  0.227649\n",
       "31 OUTBRAIN          0.573513  0.426487\n",
       "32 Taboola           0.543205  0.456795\n",
       "41 Youtube           0.773076  0.226924\n",
       "42 Adcolony          0.730545  0.269455\n",
       "61 Web/Content       0.705128  0.294872\n",
       "62 Social Media      0.752727  0.247273\n",
       "69 Others            0.648402  0.351598\n",
       "95 LAT               0.667187  0.332813"
      ]
     },
     "execution_count": 106,
     "metadata": {},
     "output_type": "execute_result"
    }
   ],
   "source": [
    "#para calcular la probabilidad se realiza de la siguinte forma : division(tanto de la columna 0 como la del 1)/suma de los valores de la columna en la misma fila.\n",
    "conve_cha.div(conve_cha.sum(axis =1),axis=0)"
   ]
  },
  {
   "cell_type": "code",
   "execution_count": 107,
   "metadata": {},
   "outputs": [
    {
     "data": {
      "image/png": "[encoded data removed]",
      "text/plain": [
       "<matplotlib.figure.Figure at 0x113a59a10>"
      ]
     },
     "metadata": {},
     "output_type": "display_data"
    }
   ],
   "source": [
    "#hacemos una grafica para representar esta tabla.\n",
    "conve_cha.plot(kind='bar',title='conversion por plataforma')\n",
    "plt.show()"
   ]
  },
  {
   "cell_type": "code",
   "execution_count": 108,
   "metadata": {
    "collapsed": true
   },
   "outputs": [],
   "source": [
    "#vamos hacer lo mismo pero viendo la probabilidad con con el tipo de sistema operativo\n",
    "conv_os = pd.crosstab(datos['os'],datos['customer'])"
   ]
  },
  {
   "cell_type": "code",
   "execution_count": 109,
   "metadata": {},
   "outputs": [
    {
     "data": {
      "text/html": [
       "<div>\n",
       "<style>\n",
       "    .dataframe thead tr:only-child th {\n",
       "        text-align: right;\n",
       "    }\n",
       "\n",
       "    .dataframe thead th {\n",
       "        text-align: left;\n",
       "    }\n",
       "\n",
       "    .dataframe tbody tr th {\n",
       "        vertical-align: top;\n",
       "    }\n",
       "</style>\n",
       "<table border=\"1\" class=\"dataframe\">\n",
       "  <thead>\n",
       "    <tr style=\"text-align: right;\">\n",
       "      <th>customer</th>\n",
       "      <th>0</th>\n",
       "      <th>1</th>\n",
       "    </tr>\n",
       "    <tr>\n",
       "      <th>os</th>\n",
       "      <th></th>\n",
       "      <th></th>\n",
       "    </tr>\n",
       "  </thead>\n",
       "  <tbody>\n",
       "    <tr>\n",
       "      <th>android</th>\n",
       "      <td>0.724464</td>\n",
       "      <td>0.275536</td>\n",
       "    </tr>\n",
       "    <tr>\n",
       "      <th>ios</th>\n",
       "      <td>0.686449</td>\n",
       "      <td>0.313551</td>\n",
       "    </tr>\n",
       "  </tbody>\n",
       "</table>\n",
       "</div>"
      ],
      "text/plain": [
       "customer         0         1\n",
       "os                          \n",
       "android   0.724464  0.275536\n",
       "ios       0.686449  0.313551"
      ]
     },
     "execution_count": 109,
     "metadata": {},
     "output_type": "execute_result"
    }
   ],
   "source": [
    "#determinar la probabilidad \n",
    "conv_os.div(conv_os.sum(axis = 1),axis=0)"
   ]
  },
  {
   "cell_type": "code",
   "execution_count": 110,
   "metadata": {},
   "outputs": [
    {
     "data": {
      "image/png": "[encoded data removed]",
      "text/plain": [
       "<matplotlib.figure.Figure at 0x11a4313d0>"
      ]
     },
     "metadata": {},
     "output_type": "display_data"
    }
   ],
   "source": [
    "conv_os.plot(kind='bar',title='conversion por tipo de OS')\n",
    "plt.show()"
   ]
  },
  {
   "cell_type": "markdown",
   "metadata": {},
   "source": [
    "# preprocesamiento"
   ]
  },
  {
   "cell_type": "code",
   "execution_count": 111,
   "metadata": {
    "collapsed": true
   },
   "outputs": [],
   "source": [
    "#vemos las columnas necesarias  y las que no son\n",
    "datos = datos.drop('user_id',axis = 1)"
   ]
  },
  {
   "cell_type": "code",
   "execution_count": 112,
   "metadata": {},
   "outputs": [
    {
     "data": {
      "text/html": [
       "<div>\n",
       "<style>\n",
       "    .dataframe thead tr:only-child th {\n",
       "        text-align: right;\n",
       "    }\n",
       "\n",
       "    .dataframe thead th {\n",
       "        text-align: left;\n",
       "    }\n",
       "\n",
       "    .dataframe tbody tr th {\n",
       "        vertical-align: top;\n",
       "    }\n",
       "</style>\n",
       "<table border=\"1\" class=\"dataframe\">\n",
       "  <thead>\n",
       "    <tr style=\"text-align: right;\">\n",
       "      <th></th>\n",
       "      <th>channel</th>\n",
       "      <th>age</th>\n",
       "      <th>os</th>\n",
       "      <th>gender</th>\n",
       "      <th>country</th>\n",
       "      <th>customer</th>\n",
       "    </tr>\n",
       "  </thead>\n",
       "  <tbody>\n",
       "    <tr>\n",
       "      <th>0</th>\n",
       "      <td>00 Organic</td>\n",
       "      <td>20</td>\n",
       "      <td>ios</td>\n",
       "      <td>female</td>\n",
       "      <td>GB</td>\n",
       "      <td>0</td>\n",
       "    </tr>\n",
       "    <tr>\n",
       "      <th>1</th>\n",
       "      <td>00 Organic</td>\n",
       "      <td>30</td>\n",
       "      <td>ios</td>\n",
       "      <td>female</td>\n",
       "      <td>US</td>\n",
       "      <td>1</td>\n",
       "    </tr>\n",
       "    <tr>\n",
       "      <th>2</th>\n",
       "      <td>31 OUTBRAIN</td>\n",
       "      <td>35</td>\n",
       "      <td>ios</td>\n",
       "      <td>female</td>\n",
       "      <td>DE</td>\n",
       "      <td>0</td>\n",
       "    </tr>\n",
       "    <tr>\n",
       "      <th>3</th>\n",
       "      <td>00 Organic</td>\n",
       "      <td>26</td>\n",
       "      <td>android</td>\n",
       "      <td>female</td>\n",
       "      <td>US</td>\n",
       "      <td>0</td>\n",
       "    </tr>\n",
       "    <tr>\n",
       "      <th>4</th>\n",
       "      <td>32 Taboola</td>\n",
       "      <td>55</td>\n",
       "      <td>ios</td>\n",
       "      <td>female</td>\n",
       "      <td>US</td>\n",
       "      <td>1</td>\n",
       "    </tr>\n",
       "  </tbody>\n",
       "</table>\n",
       "</div>"
      ],
      "text/plain": [
       "       channel  age       os  gender country  customer\n",
       "0   00 Organic   20      ios  female      GB         0\n",
       "1   00 Organic   30      ios  female      US         1\n",
       "2  31 OUTBRAIN   35      ios  female      DE         0\n",
       "3   00 Organic   26  android  female      US         0\n",
       "4   32 Taboola   55      ios  female      US         1"
      ]
     },
     "execution_count": 112,
     "metadata": {},
     "output_type": "execute_result"
    }
   ],
   "source": [
    "datos.head()"
   ]
  },
  {
   "cell_type": "code",
   "execution_count": 113,
   "metadata": {
    "collapsed": true
   },
   "outputs": [],
   "source": [
    "# es neceario aplicarle el get_dummy a las variables categoricas \n",
    "def dummy(datos):\n",
    "    for i in datos.columns:\n",
    "        if datos[i].dtype =='O':\n",
    "            datos = pd.concat([datos,pd.get_dummies(datos[i],prefix=i)],axis = 1)\n",
    "            del datos[i]\n",
    "    return datos"
   ]
  },
  {
   "cell_type": "code",
   "execution_count": 114,
   "metadata": {
    "collapsed": true
   },
   "outputs": [],
   "source": [
    "dum = dummy(datos)"
   ]
  },
  {
   "cell_type": "code",
   "execution_count": 115,
   "metadata": {},
   "outputs": [
    {
     "data": {
      "text/plain": [
       "Index([u'age', u'channel_00 Organic', u'channel_11 FB',\n",
       "       u'channel_12 PINTEREST', u'channel_21 ASA',\n",
       "       u'channel_22 Adwords (Search)', u'channel_31 OUTBRAIN',\n",
       "       u'channel_32 Taboola', u'channel_41 Youtube', u'channel_42 Adcolony',\n",
       "       u'channel_61 Web/Content', u'channel_62 Social Media',\n",
       "       u'channel_69 Others', u'channel_95 LAT', u'os_android', u'os_ios',\n",
       "       u'gender_female', u'gender_male', u'country_AU', u'country_CA',\n",
       "       u'country_DE', u'country_ES', u'country_FR', u'country_GB',\n",
       "       u'country_MX', u'country_US'],\n",
       "      dtype='object')"
      ]
     },
     "execution_count": 115,
     "metadata": {},
     "output_type": "execute_result"
    }
   ],
   "source": [
    "X = dum.drop('customer',axis=1)\n",
    "X.head()\n",
    "X.columns"
   ]
  },
  {
   "cell_type": "code",
   "execution_count": 116,
   "metadata": {
    "collapsed": true
   },
   "outputs": [],
   "source": [
    " y = dum['customer']"
   ]
  },
  {
   "cell_type": "code",
   "execution_count": 117,
   "metadata": {},
   "outputs": [
    {
     "data": {
      "text/plain": [
       "0    0\n",
       "1    1\n",
       "2    0\n",
       "3    0\n",
       "4    1\n",
       "Name: customer, dtype: int64"
      ]
     },
     "execution_count": 117,
     "metadata": {},
     "output_type": "execute_result"
    }
   ],
   "source": [
    "y.head()"
   ]
  },
  {
   "cell_type": "code",
   "execution_count": 118,
   "metadata": {},
   "outputs": [],
   "source": [
    "#una vez que hemos separado en dos variables por un lado la x con todas la features independientes \n",
    "#luego tenemos la y con la variable dependiente.\n",
    "from sklearn.cross_validation import train_test_split"
   ]
  },
  {
   "cell_type": "code",
   "execution_count": 119,
   "metadata": {
    "collapsed": true
   },
   "outputs": [],
   "source": [
    "X_train, X_test, y_train, y_test = train_test_split(X,y, test_size = 0.2)"
   ]
  },
  {
   "cell_type": "code",
   "execution_count": 120,
   "metadata": {},
   "outputs": [
    {
     "data": {
      "text/plain": [
       "66326"
      ]
     },
     "execution_count": 120,
     "metadata": {},
     "output_type": "execute_result"
    }
   ],
   "source": [
    "X_train.shape[0]"
   ]
  },
  {
   "cell_type": "code",
   "execution_count": 121,
   "metadata": {},
   "outputs": [
    {
     "data": {
      "text/plain": [
       "16582"
      ]
     },
     "execution_count": 121,
     "metadata": {},
     "output_type": "execute_result"
    }
   ],
   "source": [
    "X_test.shape[0]"
   ]
  },
  {
   "cell_type": "code",
   "execution_count": 122,
   "metadata": {},
   "outputs": [
    {
     "data": {
      "text/plain": [
       "66326"
      ]
     },
     "execution_count": 122,
     "metadata": {},
     "output_type": "execute_result"
    }
   ],
   "source": [
    "y_train.shape[0]"
   ]
  },
  {
   "cell_type": "code",
   "execution_count": 123,
   "metadata": {},
   "outputs": [
    {
     "data": {
      "text/plain": [
       "31557    0\n",
       "35318    0\n",
       "20374    0\n",
       "6710     0\n",
       "333      0\n",
       "Name: customer, dtype: int64"
      ]
     },
     "execution_count": 123,
     "metadata": {},
     "output_type": "execute_result"
    }
   ],
   "source": [
    "#vemos como ha realizado la division \n",
    "y_train.head()"
   ]
  },
  {
   "cell_type": "code",
   "execution_count": 124,
   "metadata": {
    "collapsed": true
   },
   "outputs": [],
   "source": [
    "#vamos a realizar una logistic regression\n",
    "#vamos por partes:-realizamos un scale de los X tanto train como test\n",
    "#utilizamos la metrica de accuracy\n",
    "from sklearn.preprocessing import StandardScaler\n",
    "from sklearn.pipeline import Pipeline\n",
    "from sklearn.model_selection import GridSearchCV\n",
    "from sklearn.linear_model import LogisticRegression"
   ]
  },
  {
   "cell_type": "code",
   "execution_count": 125,
   "metadata": {
    "collapsed": true
   },
   "outputs": [],
   "source": [
    "vari = [('scalar', StandardScaler()),('logit_reg',LogisticRegression())]"
   ]
  },
  {
   "cell_type": "code",
   "execution_count": 126,
   "metadata": {
    "collapsed": true
   },
   "outputs": [],
   "source": [
    "log = Pipeline(vari)"
   ]
  },
  {
   "cell_type": "code",
   "execution_count": 127,
   "metadata": {},
   "outputs": [
    {
     "data": {
      "text/plain": [
       "LogisticRegression(C=1.0, class_weight=None, dual=False, fit_intercept=True,\n",
       "          intercept_scaling=1, max_iter=100, multi_class='ovr', n_jobs=1,\n",
       "          penalty='l2', random_state=0, solver='liblinear', tol=0.0001,\n",
       "          verbose=0, warm_start=False)"
      ]
     },
     "execution_count": 127,
     "metadata": {},
     "output_type": "execute_result"
    }
   ],
   "source": [
    "#hacer el scaling de los datos X\n",
    "from sklearn.preprocessing import StandardScaler\n",
    "sc = StandardScaler()\n",
    "X_train = sc.fit_transform(X_train)\n",
    "X_test = sc.transform(X_test)\n",
    "\n",
    "#fit del modelo \n",
    "from sklearn.linear_model import LogisticRegression\n",
    "classi = LogisticRegression(random_state = 0)\n",
    "classi.fit(X_train, y_train)\n",
    "\n"
   ]
  },
  {
   "cell_type": "code",
   "execution_count": 128,
   "metadata": {
    "collapsed": true
   },
   "outputs": [],
   "source": [
    "# Predicting the Test set results\n",
    "y_pred = classi.predict(X_test)\n",
    "\n",
    "# Making the Confusion Matrix\n",
    "from sklearn.metrics import confusion_matrix\n",
    "cm = confusion_matrix(y_test, y_pred)"
   ]
  },
  {
   "cell_type": "code",
   "execution_count": 129,
   "metadata": {},
   "outputs": [
    {
     "data": {
      "text/html": [
       "<div>\n",
       "<style>\n",
       "    .dataframe thead tr:only-child th {\n",
       "        text-align: right;\n",
       "    }\n",
       "\n",
       "    .dataframe thead th {\n",
       "        text-align: left;\n",
       "    }\n",
       "\n",
       "    .dataframe tbody tr th {\n",
       "        vertical-align: top;\n",
       "    }\n",
       "</style>\n",
       "<table border=\"1\" class=\"dataframe\">\n",
       "  <thead>\n",
       "    <tr style=\"text-align: right;\">\n",
       "      <th></th>\n",
       "      <th>0</th>\n",
       "      <th>1</th>\n",
       "    </tr>\n",
       "  </thead>\n",
       "  <tbody>\n",
       "    <tr>\n",
       "      <th>0</th>\n",
       "      <td>11308</td>\n",
       "      <td>321</td>\n",
       "    </tr>\n",
       "    <tr>\n",
       "      <th>1</th>\n",
       "      <td>4504</td>\n",
       "      <td>449</td>\n",
       "    </tr>\n",
       "  </tbody>\n",
       "</table>\n",
       "</div>"
      ],
      "text/plain": [
       "       0    1\n",
       "0  11308  321\n",
       "1   4504  449"
      ]
     },
     "execution_count": 129,
     "metadata": {},
     "output_type": "execute_result"
    }
   ],
   "source": [
    "bonito = pd.DataFrame(confusion_matrix(y_test,y_pred))\n",
    "bonito"
   ]
  },
  {
   "cell_type": "code",
   "execution_count": 130,
   "metadata": {},
   "outputs": [
    {
     "data": {
      "text/plain": [
       "0.70902183090097692"
      ]
     },
     "execution_count": 130,
     "metadata": {},
     "output_type": "execute_result"
    }
   ],
   "source": [
    "(y_pred==y_test).mean()"
   ]
  },
  {
   "cell_type": "code",
   "execution_count": 131,
   "metadata": {
    "collapsed": true
   },
   "outputs": [],
   "source": [
    "#este proyecto tenia tanto un train dataset como un test data set\n",
    "#para comprobar realizar nuevas predicciones vamos a utilizar el test data set para hacer predicciones.\n",
    "\n",
    "datos_test = pd.read_csv('test_data.csv.csv_fixed')\n"
   ]
  },
  {
   "cell_type": "code",
   "execution_count": 132,
   "metadata": {},
   "outputs": [
    {
     "data": {
      "text/html": [
       "<div>\n",
       "<style>\n",
       "    .dataframe thead tr:only-child th {\n",
       "        text-align: right;\n",
       "    }\n",
       "\n",
       "    .dataframe thead th {\n",
       "        text-align: left;\n",
       "    }\n",
       "\n",
       "    .dataframe tbody tr th {\n",
       "        vertical-align: top;\n",
       "    }\n",
       "</style>\n",
       "<table border=\"1\" class=\"dataframe\">\n",
       "  <thead>\n",
       "    <tr style=\"text-align: right;\">\n",
       "      <th></th>\n",
       "      <th>user_id</th>\n",
       "      <th>channel</th>\n",
       "      <th>age</th>\n",
       "      <th>os</th>\n",
       "      <th>gender</th>\n",
       "      <th>country</th>\n",
       "    </tr>\n",
       "  </thead>\n",
       "  <tbody>\n",
       "    <tr>\n",
       "      <th>0</th>\n",
       "      <td>0</td>\n",
       "      <td>42 Adcolony</td>\n",
       "      <td>32</td>\n",
       "      <td>android</td>\n",
       "      <td>female</td>\n",
       "      <td>US</td>\n",
       "    </tr>\n",
       "    <tr>\n",
       "      <th>1</th>\n",
       "      <td>1</td>\n",
       "      <td>12 PINTEREST</td>\n",
       "      <td>27</td>\n",
       "      <td>android</td>\n",
       "      <td>female</td>\n",
       "      <td>US</td>\n",
       "    </tr>\n",
       "    <tr>\n",
       "      <th>2</th>\n",
       "      <td>2</td>\n",
       "      <td>00 Organic</td>\n",
       "      <td>36</td>\n",
       "      <td>ios</td>\n",
       "      <td>male</td>\n",
       "      <td>GB</td>\n",
       "    </tr>\n",
       "    <tr>\n",
       "      <th>3</th>\n",
       "      <td>3</td>\n",
       "      <td>42 Adcolony</td>\n",
       "      <td>29</td>\n",
       "      <td>ios</td>\n",
       "      <td>female</td>\n",
       "      <td>US</td>\n",
       "    </tr>\n",
       "    <tr>\n",
       "      <th>4</th>\n",
       "      <td>4</td>\n",
       "      <td>12 PINTEREST</td>\n",
       "      <td>20</td>\n",
       "      <td>ios</td>\n",
       "      <td>female</td>\n",
       "      <td>CA</td>\n",
       "    </tr>\n",
       "  </tbody>\n",
       "</table>\n",
       "</div>"
      ],
      "text/plain": [
       "   user_id       channel  age       os  gender country\n",
       "0        0   42 Adcolony   32  android  female      US\n",
       "1        1  12 PINTEREST   27  android  female      US\n",
       "2        2    00 Organic   36      ios    male      GB\n",
       "3        3   42 Adcolony   29      ios  female      US\n",
       "4        4  12 PINTEREST   20      ios  female      CA"
      ]
     },
     "execution_count": 132,
     "metadata": {},
     "output_type": "execute_result"
    }
   ],
   "source": [
    "datos_test.head()"
   ]
  },
  {
   "cell_type": "code",
   "execution_count": 133,
   "metadata": {
    "collapsed": true
   },
   "outputs": [],
   "source": [
    "#vemos como es un test data ya que no tenemos la varable dependiente. "
   ]
  },
  {
   "cell_type": "code",
   "execution_count": 134,
   "metadata": {},
   "outputs": [
    {
     "data": {
      "text/html": [
       "<div>\n",
       "<style>\n",
       "    .dataframe thead tr:only-child th {\n",
       "        text-align: right;\n",
       "    }\n",
       "\n",
       "    .dataframe thead th {\n",
       "        text-align: left;\n",
       "    }\n",
       "\n",
       "    .dataframe tbody tr th {\n",
       "        vertical-align: top;\n",
       "    }\n",
       "</style>\n",
       "<table border=\"1\" class=\"dataframe\">\n",
       "  <thead>\n",
       "    <tr style=\"text-align: right;\">\n",
       "      <th></th>\n",
       "      <th>user_id</th>\n",
       "      <th>age</th>\n",
       "      <th>channel_00 Organic</th>\n",
       "      <th>channel_11 FB</th>\n",
       "      <th>channel_12 PINTEREST</th>\n",
       "      <th>channel_21 ASA</th>\n",
       "      <th>channel_22 Adwords (Search)</th>\n",
       "      <th>channel_31 OUTBRAIN</th>\n",
       "      <th>channel_32 Taboola</th>\n",
       "      <th>channel_41 Youtube</th>\n",
       "      <th>...</th>\n",
       "      <th>gender_female</th>\n",
       "      <th>gender_male</th>\n",
       "      <th>country_AU</th>\n",
       "      <th>country_CA</th>\n",
       "      <th>country_DE</th>\n",
       "      <th>country_ES</th>\n",
       "      <th>country_FR</th>\n",
       "      <th>country_GB</th>\n",
       "      <th>country_MX</th>\n",
       "      <th>country_US</th>\n",
       "    </tr>\n",
       "  </thead>\n",
       "  <tbody>\n",
       "    <tr>\n",
       "      <th>0</th>\n",
       "      <td>0</td>\n",
       "      <td>32</td>\n",
       "      <td>0</td>\n",
       "      <td>0</td>\n",
       "      <td>0</td>\n",
       "      <td>0</td>\n",
       "      <td>0</td>\n",
       "      <td>0</td>\n",
       "      <td>0</td>\n",
       "      <td>0</td>\n",
       "      <td>...</td>\n",
       "      <td>1</td>\n",
       "      <td>0</td>\n",
       "      <td>0</td>\n",
       "      <td>0</td>\n",
       "      <td>0</td>\n",
       "      <td>0</td>\n",
       "      <td>0</td>\n",
       "      <td>0</td>\n",
       "      <td>0</td>\n",
       "      <td>1</td>\n",
       "    </tr>\n",
       "    <tr>\n",
       "      <th>1</th>\n",
       "      <td>1</td>\n",
       "      <td>27</td>\n",
       "      <td>0</td>\n",
       "      <td>0</td>\n",
       "      <td>1</td>\n",
       "      <td>0</td>\n",
       "      <td>0</td>\n",
       "      <td>0</td>\n",
       "      <td>0</td>\n",
       "      <td>0</td>\n",
       "      <td>...</td>\n",
       "      <td>1</td>\n",
       "      <td>0</td>\n",
       "      <td>0</td>\n",
       "      <td>0</td>\n",
       "      <td>0</td>\n",
       "      <td>0</td>\n",
       "      <td>0</td>\n",
       "      <td>0</td>\n",
       "      <td>0</td>\n",
       "      <td>1</td>\n",
       "    </tr>\n",
       "    <tr>\n",
       "      <th>2</th>\n",
       "      <td>2</td>\n",
       "      <td>36</td>\n",
       "      <td>1</td>\n",
       "      <td>0</td>\n",
       "      <td>0</td>\n",
       "      <td>0</td>\n",
       "      <td>0</td>\n",
       "      <td>0</td>\n",
       "      <td>0</td>\n",
       "      <td>0</td>\n",
       "      <td>...</td>\n",
       "      <td>0</td>\n",
       "      <td>1</td>\n",
       "      <td>0</td>\n",
       "      <td>0</td>\n",
       "      <td>0</td>\n",
       "      <td>0</td>\n",
       "      <td>0</td>\n",
       "      <td>1</td>\n",
       "      <td>0</td>\n",
       "      <td>0</td>\n",
       "    </tr>\n",
       "    <tr>\n",
       "      <th>3</th>\n",
       "      <td>3</td>\n",
       "      <td>29</td>\n",
       "      <td>0</td>\n",
       "      <td>0</td>\n",
       "      <td>0</td>\n",
       "      <td>0</td>\n",
       "      <td>0</td>\n",
       "      <td>0</td>\n",
       "      <td>0</td>\n",
       "      <td>0</td>\n",
       "      <td>...</td>\n",
       "      <td>1</td>\n",
       "      <td>0</td>\n",
       "      <td>0</td>\n",
       "      <td>0</td>\n",
       "      <td>0</td>\n",
       "      <td>0</td>\n",
       "      <td>0</td>\n",
       "      <td>0</td>\n",
       "      <td>0</td>\n",
       "      <td>1</td>\n",
       "    </tr>\n",
       "    <tr>\n",
       "      <th>4</th>\n",
       "      <td>4</td>\n",
       "      <td>20</td>\n",
       "      <td>0</td>\n",
       "      <td>0</td>\n",
       "      <td>1</td>\n",
       "      <td>0</td>\n",
       "      <td>0</td>\n",
       "      <td>0</td>\n",
       "      <td>0</td>\n",
       "      <td>0</td>\n",
       "      <td>...</td>\n",
       "      <td>1</td>\n",
       "      <td>0</td>\n",
       "      <td>0</td>\n",
       "      <td>1</td>\n",
       "      <td>0</td>\n",
       "      <td>0</td>\n",
       "      <td>0</td>\n",
       "      <td>0</td>\n",
       "      <td>0</td>\n",
       "      <td>0</td>\n",
       "    </tr>\n",
       "  </tbody>\n",
       "</table>\n",
       "<p>5 rows × 27 columns</p>\n",
       "</div>"
      ],
      "text/plain": [
       "   user_id  age  channel_00 Organic  channel_11 FB  channel_12 PINTEREST  \\\n",
       "0        0   32                   0              0                     0   \n",
       "1        1   27                   0              0                     1   \n",
       "2        2   36                   1              0                     0   \n",
       "3        3   29                   0              0                     0   \n",
       "4        4   20                   0              0                     1   \n",
       "\n",
       "   channel_21 ASA  channel_22 Adwords (Search)  channel_31 OUTBRAIN  \\\n",
       "0               0                            0                    0   \n",
       "1               0                            0                    0   \n",
       "2               0                            0                    0   \n",
       "3               0                            0                    0   \n",
       "4               0                            0                    0   \n",
       "\n",
       "   channel_32 Taboola  channel_41 Youtube     ...      gender_female  \\\n",
       "0                   0                   0     ...                  1   \n",
       "1                   0                   0     ...                  1   \n",
       "2                   0                   0     ...                  0   \n",
       "3                   0                   0     ...                  1   \n",
       "4                   0                   0     ...                  1   \n",
       "\n",
       "   gender_male  country_AU  country_CA  country_DE  country_ES  country_FR  \\\n",
       "0            0           0           0           0           0           0   \n",
       "1            0           0           0           0           0           0   \n",
       "2            1           0           0           0           0           0   \n",
       "3            0           0           0           0           0           0   \n",
       "4            0           0           1           0           0           0   \n",
       "\n",
       "   country_GB  country_MX  country_US  \n",
       "0           0           0           1  \n",
       "1           0           0           1  \n",
       "2           1           0           0  \n",
       "3           0           0           1  \n",
       "4           0           0           0  \n",
       "\n",
       "[5 rows x 27 columns]"
      ]
     },
     "execution_count": 134,
     "metadata": {},
     "output_type": "execute_result"
    }
   ],
   "source": [
    "#como tambien hay variables categoricas vamos a llamar a la funcion realizada anteriormente \n",
    "data_final_test = dummy(datos_test)\n",
    "data_final_test.head()"
   ]
  },
  {
   "cell_type": "code",
   "execution_count": 135,
   "metadata": {},
   "outputs": [
    {
     "data": {
      "text/plain": [
       "Index([u'user_id', u'age', u'channel_00 Organic', u'channel_11 FB',\n",
       "       u'channel_12 PINTEREST', u'channel_21 ASA',\n",
       "       u'channel_22 Adwords (Search)', u'channel_31 OUTBRAIN',\n",
       "       u'channel_32 Taboola', u'channel_41 Youtube', u'channel_42 Adcolony',\n",
       "       u'channel_61 Web/Content', u'channel_62 Social Media',\n",
       "       u'channel_69 Others', u'channel_95 LAT', u'os_android', u'os_ios',\n",
       "       u'gender_female', u'gender_male', u'country_AU', u'country_CA',\n",
       "       u'country_DE', u'country_ES', u'country_FR', u'country_GB',\n",
       "       u'country_MX', u'country_US'],\n",
       "      dtype='object')"
      ]
     },
     "execution_count": 135,
     "metadata": {},
     "output_type": "execute_result"
    }
   ],
   "source": [
    "data_final_test.columns"
   ]
  },
  {
   "cell_type": "code",
   "execution_count": 136,
   "metadata": {},
   "outputs": [],
   "source": [
    "#parece que la columna de id sobre ya que no se utilizo anteriormente. Haremos un drop a esa columna\n",
    "data_final_test=data_final_test.drop('user_id',axis=1)"
   ]
  },
  {
   "cell_type": "code",
   "execution_count": 144,
   "metadata": {
    "collapsed": true
   },
   "outputs": [],
   "source": [
    "con_pred = classi.predict(data_final_test)"
   ]
  },
  {
   "cell_type": "code",
   "execution_count": 143,
   "metadata": {},
   "outputs": [],
   "source": [
    "#no funciona del todo puede ser por el scaling que le hacemos y aqui no se hace vemos. Se estudiara mas adelante."
   ]
  },
  {
   "cell_type": "code",
   "execution_count": 139,
   "metadata": {},
   "outputs": [],
   "source": []
  },
  {
   "cell_type": "code",
   "execution_count": 142,
   "metadata": {},
   "outputs": [],
   "source": []
  },
  {
   "cell_type": "code",
   "execution_count": null,
   "metadata": {
    "collapsed": true
   },
   "outputs": [],
   "source": []
  }
 ],
 "metadata": {
  "kernelspec": {
   "display_name": "Python 2",
   "language": "python",
   "name": "python2"
  },
  "language_info": {
   "codemirror_mode": {
    "name": "ipython",
    "version": 2
   },
   "file_extension": ".py",
   "mimetype": "text/x-python",
   "name": "python",
   "nbconvert_exporter": "python",
   "pygments_lexer": "ipython2",
   "version": "2.7.14"
  }
 },
 "nbformat": 4,
 "nbformat_minor": 2
}
